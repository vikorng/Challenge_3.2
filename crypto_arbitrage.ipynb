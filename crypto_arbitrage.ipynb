{
 "cells": [
  {
   "cell_type": "markdown",
   "metadata": {
    "id": "-yCTEbZYBdHE"
   },
   "source": [
    "## Crypto Arbitrage\n",
    "\n",
    "In this Challenge, you'll take on the role of an analyst at a high-tech investment firm. The vice president (VP) of your department is considering arbitrage opportunities in Bitcoin and other cryptocurrencies. As Bitcoin trades on markets across the globe, can you capitalize on simultaneous price dislocations in those markets by using the powers of Pandas?\n",
    "\n",
    "For this assignment, you’ll sort through historical trade data for Bitcoin on two exchanges: Bitstamp and Coinbase. Your task is to apply the three phases of financial analysis to determine if any arbitrage opportunities exist for Bitcoin.\n",
    "\n",
    "This aspect of the Challenge will consist of 3 phases.\n",
    "\n",
    "1. Collect the data.\n",
    "\n",
    "2. Prepare the data.\n",
    "\n",
    "3. Analyze the data. \n",
    "\n"
   ]
  },
  {
   "cell_type": "markdown",
   "metadata": {
    "id": "xap9pl0DBdHK"
   },
   "source": [
    "###  Import the required libraries and dependencies."
   ]
  },
  {
   "cell_type": "code",
   "execution_count": 2,
   "metadata": {
    "id": "EByQCzuaBdHL"
   },
   "outputs": [],
   "source": [
    "import pandas as pd\n",
    "from pathlib import Path\n",
    "%matplotlib inline\n"
   ]
  },
  {
   "cell_type": "markdown",
   "metadata": {
    "id": "LxCL84u-BdHL"
   },
   "source": [
    "## Collect the Data\n",
    "\n",
    "To collect the data that you’ll need, complete the following steps:\n",
    "\n",
    "Instructions. \n",
    "\n",
    "1. Using the Pandas `read_csv` function and the `Path` module, import the data from `bitstamp.csv` file, and create a DataFrame called `bitstamp`. Set the DatetimeIndex as the Timestamp column, and be sure to parse and format the dates.\n",
    "\n",
    "2. Use the `head` (and/or the `tail`) function to confirm that Pandas properly imported the data.\n",
    "\n",
    "3. Repeat Steps 1 and 2 for `coinbase.csv` file."
   ]
  },
  {
   "cell_type": "markdown",
   "metadata": {
    "id": "_rnCYtVJBdHM"
   },
   "source": [
    "### Step 1: Using the Pandas `read_csv` function and the `Path` module, import the data from `bitstamp.csv` file, and create a DataFrame called `bitstamp`. Set the DatetimeIndex as the Timestamp column, and be sure to parse and format the dates."
   ]
  },
  {
   "cell_type": "code",
   "execution_count": 4,
   "metadata": {
    "id": "nUkHZc42BdHM"
   },
   "outputs": [],
   "source": [
    "# Read in the CSV file called \"bitstamp.csv\" using the Path module. \n",
    "# The CSV file is located in the Resources folder.\n",
    "# Set the index to the column \"Date\"\n",
    "# Set the parse_dates and infer_datetime_format parameters\n",
    "bitstamp = pd.read_csv('/content/drive/MyDrive/bitstamp.csv')\n"
   ]
  },
  {
   "cell_type": "markdown",
   "metadata": {
    "id": "COOLr-f1BdHM"
   },
   "source": [
    "### Step 2: Use the `head` (and/or the `tail`) function to confirm that Pandas properly imported the data."
   ]
  },
  {
   "cell_type": "code",
   "execution_count": null,
   "metadata": {
    "colab": {
     "base_uri": "https://localhost:8080/",
     "height": 204
    },
    "id": "RjdwZsbPBdHN",
    "outputId": "2cc715c8-fe56-4ebd-cb1d-9ba4e17a592d"
   },
   "outputs": [
    {
     "data": {
      "text/html": [
       "<div>\n",
       "<style scoped>\n",
       "    .dataframe tbody tr th:only-of-type {\n",
       "        vertical-align: middle;\n",
       "    }\n",
       "\n",
       "    .dataframe tbody tr th {\n",
       "        vertical-align: top;\n",
       "    }\n",
       "\n",
       "    .dataframe thead th {\n",
       "        text-align: right;\n",
       "    }\n",
       "</style>\n",
       "<table border=\"1\" class=\"dataframe\">\n",
       "  <thead>\n",
       "    <tr style=\"text-align: right;\">\n",
       "      <th></th>\n",
       "      <th>Timestamp</th>\n",
       "      <th>Open</th>\n",
       "      <th>High</th>\n",
       "      <th>Low</th>\n",
       "      <th>Close</th>\n",
       "      <th>BTC Volume</th>\n",
       "      <th>USD Volume</th>\n",
       "      <th>Weighted Price</th>\n",
       "    </tr>\n",
       "  </thead>\n",
       "  <tbody>\n",
       "    <tr>\n",
       "      <th>1588614</th>\n",
       "      <td>2019-01-07 23:55:00</td>\n",
       "      <td>3977.81</td>\n",
       "      <td>3977.81</td>\n",
       "      <td>3977.81</td>\n",
       "      <td>$3977.81</td>\n",
       "      <td>0.008042</td>\n",
       "      <td>31.988752</td>\n",
       "      <td>3977.810000</td>\n",
       "    </tr>\n",
       "    <tr>\n",
       "      <th>1588615</th>\n",
       "      <td>2019-01-07 23:56:00</td>\n",
       "      <td>NaN</td>\n",
       "      <td>NaN</td>\n",
       "      <td>NaN</td>\n",
       "      <td>$nan</td>\n",
       "      <td>NaN</td>\n",
       "      <td>NaN</td>\n",
       "      <td>NaN</td>\n",
       "    </tr>\n",
       "    <tr>\n",
       "      <th>1588616</th>\n",
       "      <td>2019-01-07 23:57:00</td>\n",
       "      <td>3977.81</td>\n",
       "      <td>3984.40</td>\n",
       "      <td>3977.81</td>\n",
       "      <td>$3984.4</td>\n",
       "      <td>8.907403</td>\n",
       "      <td>35464.870894</td>\n",
       "      <td>3981.504964</td>\n",
       "    </tr>\n",
       "    <tr>\n",
       "      <th>1588617</th>\n",
       "      <td>2019-01-07 23:58:00</td>\n",
       "      <td>3980.97</td>\n",
       "      <td>3980.97</td>\n",
       "      <td>3980.97</td>\n",
       "      <td>$3980.97</td>\n",
       "      <td>1.615929</td>\n",
       "      <td>6432.963358</td>\n",
       "      <td>3980.970000</td>\n",
       "    </tr>\n",
       "    <tr>\n",
       "      <th>1588618</th>\n",
       "      <td>2019-01-07 23:59:00</td>\n",
       "      <td>3979.07</td>\n",
       "      <td>3983.52</td>\n",
       "      <td>3979.07</td>\n",
       "      <td>$3983.52</td>\n",
       "      <td>1.920004</td>\n",
       "      <td>7643.937878</td>\n",
       "      <td>3981.209496</td>\n",
       "    </tr>\n",
       "  </tbody>\n",
       "</table>\n",
       "</div>"
      ],
      "text/plain": [
       "                   Timestamp     Open  ...    USD Volume  Weighted Price\n",
       "1588614  2019-01-07 23:55:00  3977.81  ...     31.988752     3977.810000\n",
       "1588615  2019-01-07 23:56:00      NaN  ...           NaN             NaN\n",
       "1588616  2019-01-07 23:57:00  3977.81  ...  35464.870894     3981.504964\n",
       "1588617  2019-01-07 23:58:00  3980.97  ...   6432.963358     3980.970000\n",
       "1588618  2019-01-07 23:59:00  3979.07  ...   7643.937878     3981.209496\n",
       "\n",
       "[5 rows x 8 columns]"
      ]
     },
     "execution_count": 5,
     "metadata": {
      "tags": []
     },
     "output_type": "execute_result"
    }
   ],
   "source": [
    "# Use the head (and/or tail) function to confirm that the data was imported properly.\n",
    "# YOUR CODE HERE(\n",
    "bitstamp.tail()"
   ]
  },
  {
   "cell_type": "markdown",
   "metadata": {
    "id": "HhcFY-0vBdHO"
   },
   "source": [
    "### Step 3: Repeat Steps 1 and 2 for `coinbase.csv` file."
   ]
  },
  {
   "cell_type": "code",
   "execution_count": 5,
   "metadata": {
    "id": "yX84e7L7BdHO"
   },
   "outputs": [],
   "source": [
    "# Read in the CSV file called \"coinbase.csv\" using the Path module. \n",
    "# The CSV file is located in the Resources folder.\n",
    "# Set the index to the column \"Timestamp\"\n",
    "# Set the parse_dates and infer_datetime_format parameters\n",
    "coinbase = pd.read_csv('/content/drive/MyDrive/coinbase.csv')\n"
   ]
  },
  {
   "cell_type": "code",
   "execution_count": 6,
   "metadata": {
    "colab": {
     "base_uri": "https://localhost:8080/",
     "height": 204
    },
    "id": "S-cOHJloBdHP",
    "outputId": "da394b33-e34f-4fe8-a167-3d0959a8dfdc"
   },
   "outputs": [
    {
     "data": {
      "text/html": [
       "<div>\n",
       "<style scoped>\n",
       "    .dataframe tbody tr th:only-of-type {\n",
       "        vertical-align: middle;\n",
       "    }\n",
       "\n",
       "    .dataframe tbody tr th {\n",
       "        vertical-align: top;\n",
       "    }\n",
       "\n",
       "    .dataframe thead th {\n",
       "        text-align: right;\n",
       "    }\n",
       "</style>\n",
       "<table border=\"1\" class=\"dataframe\">\n",
       "  <thead>\n",
       "    <tr style=\"text-align: right;\">\n",
       "      <th></th>\n",
       "      <th>Timestamp</th>\n",
       "      <th>Open</th>\n",
       "      <th>High</th>\n",
       "      <th>Low</th>\n",
       "      <th>Close</th>\n",
       "      <th>BTC Volume</th>\n",
       "      <th>USD Volume</th>\n",
       "      <th>Weighted Price</th>\n",
       "    </tr>\n",
       "  </thead>\n",
       "  <tbody>\n",
       "    <tr>\n",
       "      <th>0</th>\n",
       "      <td>2015-12-31 19:01:00</td>\n",
       "      <td>430.38</td>\n",
       "      <td>430.40</td>\n",
       "      <td>430.38</td>\n",
       "      <td>$430.4</td>\n",
       "      <td>0.947800</td>\n",
       "      <td>407.924370</td>\n",
       "      <td>430.390768</td>\n",
       "    </tr>\n",
       "    <tr>\n",
       "      <th>1</th>\n",
       "      <td>2015-12-31 19:02:00</td>\n",
       "      <td>430.40</td>\n",
       "      <td>430.40</td>\n",
       "      <td>430.40</td>\n",
       "      <td>$430.4</td>\n",
       "      <td>1.633400</td>\n",
       "      <td>703.015360</td>\n",
       "      <td>430.400000</td>\n",
       "    </tr>\n",
       "    <tr>\n",
       "      <th>2</th>\n",
       "      <td>2015-12-31 19:03:00</td>\n",
       "      <td>430.39</td>\n",
       "      <td>430.39</td>\n",
       "      <td>430.36</td>\n",
       "      <td>$430.36</td>\n",
       "      <td>12.566300</td>\n",
       "      <td>5408.313368</td>\n",
       "      <td>430.382322</td>\n",
       "    </tr>\n",
       "    <tr>\n",
       "      <th>3</th>\n",
       "      <td>2015-12-31 19:04:00</td>\n",
       "      <td>430.39</td>\n",
       "      <td>430.39</td>\n",
       "      <td>430.39</td>\n",
       "      <td>$430.39</td>\n",
       "      <td>1.953000</td>\n",
       "      <td>840.551670</td>\n",
       "      <td>430.390000</td>\n",
       "    </tr>\n",
       "    <tr>\n",
       "      <th>4</th>\n",
       "      <td>2015-12-31 19:05:00</td>\n",
       "      <td>430.40</td>\n",
       "      <td>430.96</td>\n",
       "      <td>430.40</td>\n",
       "      <td>$430.96</td>\n",
       "      <td>12.114161</td>\n",
       "      <td>5216.297064</td>\n",
       "      <td>430.595001</td>\n",
       "    </tr>\n",
       "  </tbody>\n",
       "</table>\n",
       "</div>"
      ],
      "text/plain": [
       "             Timestamp    Open    High  ...  BTC Volume   USD Volume  Weighted Price\n",
       "0  2015-12-31 19:01:00  430.38  430.40  ...    0.947800   407.924370      430.390768\n",
       "1  2015-12-31 19:02:00  430.40  430.40  ...    1.633400   703.015360      430.400000\n",
       "2  2015-12-31 19:03:00  430.39  430.39  ...   12.566300  5408.313368      430.382322\n",
       "3  2015-12-31 19:04:00  430.39  430.39  ...    1.953000   840.551670      430.390000\n",
       "4  2015-12-31 19:05:00  430.40  430.96  ...   12.114161  5216.297064      430.595001\n",
       "\n",
       "[5 rows x 8 columns]"
      ]
     },
     "execution_count": 6,
     "metadata": {
      "tags": []
     },
     "output_type": "execute_result"
    }
   ],
   "source": [
    "# Use the head (and/or tail) function to confirm that the data was imported properly.\n",
    "# YOUR CODE HERE\n",
    "coinbase.head()\n"
   ]
  },
  {
   "cell_type": "markdown",
   "metadata": {
    "id": "vmSavzUNBdHP"
   },
   "source": [
    "## Prepare the Data\n",
    "\n",
    "To prepare and clean your data for analysis, complete the following steps:\n",
    "\n",
    "1. For the bitstamp DataFrame, replace or drop all `NaN`, or missing, values in the DataFrame.\n",
    "\n",
    "2. Use the `str.replace` function to remove the dollar signs ($) from the values in the Close column.\n",
    "\n",
    "3. Convert the data type of the Close column to a `float`.\n",
    "\n",
    "4. Review the data for duplicated values, and drop them if necessary.\n",
    "\n",
    "5. Repeat Steps 1–4 for the coinbase DataFrame."
   ]
  },
  {
   "cell_type": "markdown",
   "metadata": {
    "id": "JIOwtmcbBdHQ"
   },
   "source": [
    "### Step 1: For the bitstamp DataFrame, replace or drop all `NaN`, or missing, values in the DataFrame."
   ]
  },
  {
   "cell_type": "code",
   "execution_count": 9,
   "metadata": {
    "colab": {
     "base_uri": "https://localhost:8080/",
     "height": 204
    },
    "id": "SUnECT0ABdHQ",
    "outputId": "48d84574-4a70-4aa3-8360-2f25cac53741"
   },
   "outputs": [
    {
     "data": {
      "text/html": [
       "<div>\n",
       "<style scoped>\n",
       "    .dataframe tbody tr th:only-of-type {\n",
       "        vertical-align: middle;\n",
       "    }\n",
       "\n",
       "    .dataframe tbody tr th {\n",
       "        vertical-align: top;\n",
       "    }\n",
       "\n",
       "    .dataframe thead th {\n",
       "        text-align: right;\n",
       "    }\n",
       "</style>\n",
       "<table border=\"1\" class=\"dataframe\">\n",
       "  <thead>\n",
       "    <tr style=\"text-align: right;\">\n",
       "      <th></th>\n",
       "      <th>Timestamp</th>\n",
       "      <th>Open</th>\n",
       "      <th>High</th>\n",
       "      <th>Low</th>\n",
       "      <th>Close</th>\n",
       "      <th>BTC Volume</th>\n",
       "      <th>USD Volume</th>\n",
       "      <th>Weighted Price</th>\n",
       "      <th>close_float</th>\n",
       "    </tr>\n",
       "  </thead>\n",
       "  <tbody>\n",
       "    <tr>\n",
       "      <th>0</th>\n",
       "      <td>2015-12-31 19:01:00</td>\n",
       "      <td>430.89</td>\n",
       "      <td>430.89</td>\n",
       "      <td>430.89</td>\n",
       "      <td>$430.89</td>\n",
       "      <td>0.080631</td>\n",
       "      <td>34.743096</td>\n",
       "      <td>430.890000</td>\n",
       "      <td>430.89</td>\n",
       "    </tr>\n",
       "    <tr>\n",
       "      <th>1</th>\n",
       "      <td>2015-12-31 19:02:00</td>\n",
       "      <td>430.89</td>\n",
       "      <td>430.89</td>\n",
       "      <td>430.89</td>\n",
       "      <td>$430.89</td>\n",
       "      <td>0.143257</td>\n",
       "      <td>61.728095</td>\n",
       "      <td>430.890000</td>\n",
       "      <td>430.89</td>\n",
       "    </tr>\n",
       "    <tr>\n",
       "      <th>3</th>\n",
       "      <td>2015-12-31 19:04:00</td>\n",
       "      <td>430.19</td>\n",
       "      <td>431.06</td>\n",
       "      <td>430.19</td>\n",
       "      <td>$431.06</td>\n",
       "      <td>1.032161</td>\n",
       "      <td>444.627575</td>\n",
       "      <td>430.773269</td>\n",
       "      <td>431.06</td>\n",
       "    </tr>\n",
       "    <tr>\n",
       "      <th>4</th>\n",
       "      <td>2015-12-31 19:05:00</td>\n",
       "      <td>431.06</td>\n",
       "      <td>432.11</td>\n",
       "      <td>430.21</td>\n",
       "      <td>$430.54</td>\n",
       "      <td>5.558156</td>\n",
       "      <td>2397.461993</td>\n",
       "      <td>431.341280</td>\n",
       "      <td>430.54</td>\n",
       "    </tr>\n",
       "    <tr>\n",
       "      <th>5</th>\n",
       "      <td>2015-12-31 19:06:00</td>\n",
       "      <td>432.53</td>\n",
       "      <td>432.53</td>\n",
       "      <td>431.48</td>\n",
       "      <td>$432.52</td>\n",
       "      <td>4.117318</td>\n",
       "      <td>1776.650476</td>\n",
       "      <td>431.506725</td>\n",
       "      <td>432.52</td>\n",
       "    </tr>\n",
       "  </tbody>\n",
       "</table>\n",
       "</div>"
      ],
      "text/plain": [
       "             Timestamp    Open  ...  Weighted Price  close_float\n",
       "0  2015-12-31 19:01:00  430.89  ...      430.890000       430.89\n",
       "1  2015-12-31 19:02:00  430.89  ...      430.890000       430.89\n",
       "3  2015-12-31 19:04:00  430.19  ...      430.773269       431.06\n",
       "4  2015-12-31 19:05:00  431.06  ...      431.341280       430.54\n",
       "5  2015-12-31 19:06:00  432.53  ...      431.506725       432.52\n",
       "\n",
       "[5 rows x 9 columns]"
      ]
     },
     "execution_count": 9,
     "metadata": {
      "tags": []
     },
     "output_type": "execute_result"
    }
   ],
   "source": [
    "def format_dataframe(input_data):\n",
    "  # step 2-4 are all here\n",
    "  input_data = input_data.dropna()\n",
    "  input_data.loc[:,'close_float'] = input_data.loc[:,'Close'].str.replace('$','').astype(float)\n",
    "  input_data.drop_duplicates()\n",
    "  return input_data\n",
    "\n",
    "# For the bitstamp DataFrame, replace or drop all NaNs or missing values in the DataFrame\n",
    "# YOUR CODE HERE\n",
    "bitstamp = format_dataframe(bitstamp)\n",
    "bitstamp.head()"
   ]
  },
  {
   "cell_type": "markdown",
   "metadata": {
    "id": "zB4t9cDFBdHQ"
   },
   "source": [
    "### Step 2: Use the `str.replace` function to remove the dollar signs ($) from the values in the Close column."
   ]
  },
  {
   "cell_type": "code",
   "execution_count": 10,
   "metadata": {
    "colab": {
     "base_uri": "https://localhost:8080/",
     "height": 204
    },
    "id": "DF8E573JBdHQ",
    "outputId": "5acc05b7-b33d-4cfc-f2a2-51675a1c5da7"
   },
   "outputs": [
    {
     "data": {
      "text/html": [
       "<div>\n",
       "<style scoped>\n",
       "    .dataframe tbody tr th:only-of-type {\n",
       "        vertical-align: middle;\n",
       "    }\n",
       "\n",
       "    .dataframe tbody tr th {\n",
       "        vertical-align: top;\n",
       "    }\n",
       "\n",
       "    .dataframe thead th {\n",
       "        text-align: right;\n",
       "    }\n",
       "</style>\n",
       "<table border=\"1\" class=\"dataframe\">\n",
       "  <thead>\n",
       "    <tr style=\"text-align: right;\">\n",
       "      <th></th>\n",
       "      <th>Timestamp</th>\n",
       "      <th>Open</th>\n",
       "      <th>High</th>\n",
       "      <th>Low</th>\n",
       "      <th>Close</th>\n",
       "      <th>BTC Volume</th>\n",
       "      <th>USD Volume</th>\n",
       "      <th>Weighted Price</th>\n",
       "      <th>close_float</th>\n",
       "    </tr>\n",
       "  </thead>\n",
       "  <tbody>\n",
       "    <tr>\n",
       "      <th>0</th>\n",
       "      <td>2015-12-31 19:01:00</td>\n",
       "      <td>430.38</td>\n",
       "      <td>430.40</td>\n",
       "      <td>430.38</td>\n",
       "      <td>$430.4</td>\n",
       "      <td>0.947800</td>\n",
       "      <td>407.924370</td>\n",
       "      <td>430.390768</td>\n",
       "      <td>430.40</td>\n",
       "    </tr>\n",
       "    <tr>\n",
       "      <th>1</th>\n",
       "      <td>2015-12-31 19:02:00</td>\n",
       "      <td>430.40</td>\n",
       "      <td>430.40</td>\n",
       "      <td>430.40</td>\n",
       "      <td>$430.4</td>\n",
       "      <td>1.633400</td>\n",
       "      <td>703.015360</td>\n",
       "      <td>430.400000</td>\n",
       "      <td>430.40</td>\n",
       "    </tr>\n",
       "    <tr>\n",
       "      <th>2</th>\n",
       "      <td>2015-12-31 19:03:00</td>\n",
       "      <td>430.39</td>\n",
       "      <td>430.39</td>\n",
       "      <td>430.36</td>\n",
       "      <td>$430.36</td>\n",
       "      <td>12.566300</td>\n",
       "      <td>5408.313368</td>\n",
       "      <td>430.382322</td>\n",
       "      <td>430.36</td>\n",
       "    </tr>\n",
       "    <tr>\n",
       "      <th>3</th>\n",
       "      <td>2015-12-31 19:04:00</td>\n",
       "      <td>430.39</td>\n",
       "      <td>430.39</td>\n",
       "      <td>430.39</td>\n",
       "      <td>$430.39</td>\n",
       "      <td>1.953000</td>\n",
       "      <td>840.551670</td>\n",
       "      <td>430.390000</td>\n",
       "      <td>430.39</td>\n",
       "    </tr>\n",
       "    <tr>\n",
       "      <th>4</th>\n",
       "      <td>2015-12-31 19:05:00</td>\n",
       "      <td>430.40</td>\n",
       "      <td>430.96</td>\n",
       "      <td>430.40</td>\n",
       "      <td>$430.96</td>\n",
       "      <td>12.114161</td>\n",
       "      <td>5216.297064</td>\n",
       "      <td>430.595001</td>\n",
       "      <td>430.96</td>\n",
       "    </tr>\n",
       "  </tbody>\n",
       "</table>\n",
       "</div>"
      ],
      "text/plain": [
       "             Timestamp    Open  ...  Weighted Price  close_float\n",
       "0  2015-12-31 19:01:00  430.38  ...      430.390768       430.40\n",
       "1  2015-12-31 19:02:00  430.40  ...      430.400000       430.40\n",
       "2  2015-12-31 19:03:00  430.39  ...      430.382322       430.36\n",
       "3  2015-12-31 19:04:00  430.39  ...      430.390000       430.39\n",
       "4  2015-12-31 19:05:00  430.40  ...      430.595001       430.96\n",
       "\n",
       "[5 rows x 9 columns]"
      ]
     },
     "execution_count": 10,
     "metadata": {
      "tags": []
     },
     "output_type": "execute_result"
    }
   ],
   "source": [
    "# Use the str.replace function to remove the dollar sign, $\n",
    "# YOUR CODE HERE\n",
    "coinbase = format_dataframe(coinbase)\n",
    "coinbase.head()"
   ]
  },
  {
   "cell_type": "markdown",
   "metadata": {
    "id": "mrJ-VabxBdHR"
   },
   "source": [
    "### Step 3: Convert the data type of the Close column to a `float`."
   ]
  },
  {
   "cell_type": "code",
   "execution_count": null,
   "metadata": {
    "id": "1jh7cpzcBdHR"
   },
   "outputs": [],
   "source": [
    "# Convert the Close data type to a float\n",
    "# YOUR CODE HERE\n"
   ]
  },
  {
   "cell_type": "markdown",
   "metadata": {
    "id": "94xHhWQ9BdHR"
   },
   "source": [
    "### Step 4: Review the data for duplicated values, and drop them if necessary."
   ]
  },
  {
   "cell_type": "code",
   "execution_count": null,
   "metadata": {
    "id": "57Y9G5QKBdHR"
   },
   "outputs": [],
   "source": [
    "# Review the data for duplicate values, and drop them if necessary\n",
    "# YOUR CODE HERE\n"
   ]
  },
  {
   "cell_type": "markdown",
   "metadata": {
    "id": "T9alwxbYBdHR"
   },
   "source": [
    "### Step 5: Repeat Steps 1–4 for the coinbase DataFrame."
   ]
  },
  {
   "cell_type": "code",
   "execution_count": null,
   "metadata": {
    "id": "4CFK2K75BdHS"
   },
   "outputs": [],
   "source": [
    "# Repeat Steps 1–4 for the coinbase DataFrame\n",
    "# YOUR CODE HERE\n"
   ]
  },
  {
   "cell_type": "markdown",
   "metadata": {
    "id": "IQLO8j75BdHS"
   },
   "source": [
    "## Analyze the Data\n",
    "\n",
    "Your analysis consists of the following steps:\n",
    "\n",
    "Your analysis consists of the following tasks: \n",
    "\n",
    "1. Choose the columns of data on which to focus your analysis.\n",
    "\n",
    "2. Get the summary statistics and plot the data.\n",
    "\n",
    "3. Focus your analysis on specific dates.\n",
    "\n",
    "4. Calculate the arbitrage profits."
   ]
  },
  {
   "cell_type": "markdown",
   "metadata": {
    "id": "rCTHO1clBdHS"
   },
   "source": [
    "### Step 1: Choose columns of data on which to focus your analysis.\n",
    "\n",
    "Select the data you want to analyze. Use `loc` or `iloc` to select the following columns of data for both the bitstamp and coinbase DataFrames:\n",
    "\n",
    "* Timestamp (index)\n",
    "\n",
    "* Close\n"
   ]
  },
  {
   "cell_type": "code",
   "execution_count": 13,
   "metadata": {
    "colab": {
     "base_uri": "https://localhost:8080/",
     "height": 204
    },
    "id": "MR_KxfPqBdHS",
    "outputId": "437fcb6f-6839-46b7-9357-dc25200363d9"
   },
   "outputs": [
    {
     "data": {
      "text/html": [
       "<div>\n",
       "<style scoped>\n",
       "    .dataframe tbody tr th:only-of-type {\n",
       "        vertical-align: middle;\n",
       "    }\n",
       "\n",
       "    .dataframe tbody tr th {\n",
       "        vertical-align: top;\n",
       "    }\n",
       "\n",
       "    .dataframe thead th {\n",
       "        text-align: right;\n",
       "    }\n",
       "</style>\n",
       "<table border=\"1\" class=\"dataframe\">\n",
       "  <thead>\n",
       "    <tr style=\"text-align: right;\">\n",
       "      <th></th>\n",
       "      <th>Timestamp</th>\n",
       "      <th>close_float</th>\n",
       "    </tr>\n",
       "  </thead>\n",
       "  <tbody>\n",
       "    <tr>\n",
       "      <th>0</th>\n",
       "      <td>2015-12-31 19:01:00</td>\n",
       "      <td>430.89</td>\n",
       "    </tr>\n",
       "    <tr>\n",
       "      <th>1</th>\n",
       "      <td>2015-12-31 19:02:00</td>\n",
       "      <td>430.89</td>\n",
       "    </tr>\n",
       "    <tr>\n",
       "      <th>3</th>\n",
       "      <td>2015-12-31 19:04:00</td>\n",
       "      <td>431.06</td>\n",
       "    </tr>\n",
       "    <tr>\n",
       "      <th>4</th>\n",
       "      <td>2015-12-31 19:05:00</td>\n",
       "      <td>430.54</td>\n",
       "    </tr>\n",
       "    <tr>\n",
       "      <th>5</th>\n",
       "      <td>2015-12-31 19:06:00</td>\n",
       "      <td>432.52</td>\n",
       "    </tr>\n",
       "  </tbody>\n",
       "</table>\n",
       "</div>"
      ],
      "text/plain": [
       "             Timestamp  close_float\n",
       "0  2015-12-31 19:01:00       430.89\n",
       "1  2015-12-31 19:02:00       430.89\n",
       "3  2015-12-31 19:04:00       431.06\n",
       "4  2015-12-31 19:05:00       430.54\n",
       "5  2015-12-31 19:06:00       432.52"
      ]
     },
     "execution_count": 13,
     "metadata": {
      "tags": []
     },
     "output_type": "execute_result"
    }
   ],
   "source": [
    "# Use loc or iloc to select `Timestamp (the index)` and `Close` from bitstamp DataFrame\n",
    "bitstamp_sliced = bitstamp.loc[:,['Timestamp','close_float']]\n",
    "# Review the first five rows of the DataFrame\n",
    "# YOUR CODE HERE\n",
    "bitstamp_sliced.head(5)\n"
   ]
  },
  {
   "cell_type": "code",
   "execution_count": 14,
   "metadata": {
    "colab": {
     "base_uri": "https://localhost:8080/",
     "height": 204
    },
    "id": "GUG6Pg_eBdHT",
    "outputId": "1c6cf8ce-2417-41a8-e7d1-fca7f1a31e40"
   },
   "outputs": [
    {
     "data": {
      "text/html": [
       "<div>\n",
       "<style scoped>\n",
       "    .dataframe tbody tr th:only-of-type {\n",
       "        vertical-align: middle;\n",
       "    }\n",
       "\n",
       "    .dataframe tbody tr th {\n",
       "        vertical-align: top;\n",
       "    }\n",
       "\n",
       "    .dataframe thead th {\n",
       "        text-align: right;\n",
       "    }\n",
       "</style>\n",
       "<table border=\"1\" class=\"dataframe\">\n",
       "  <thead>\n",
       "    <tr style=\"text-align: right;\">\n",
       "      <th></th>\n",
       "      <th>Timestamp</th>\n",
       "      <th>close_float</th>\n",
       "    </tr>\n",
       "  </thead>\n",
       "  <tbody>\n",
       "    <tr>\n",
       "      <th>0</th>\n",
       "      <td>2015-12-31 19:01:00</td>\n",
       "      <td>430.40</td>\n",
       "    </tr>\n",
       "    <tr>\n",
       "      <th>1</th>\n",
       "      <td>2015-12-31 19:02:00</td>\n",
       "      <td>430.40</td>\n",
       "    </tr>\n",
       "    <tr>\n",
       "      <th>2</th>\n",
       "      <td>2015-12-31 19:03:00</td>\n",
       "      <td>430.36</td>\n",
       "    </tr>\n",
       "    <tr>\n",
       "      <th>3</th>\n",
       "      <td>2015-12-31 19:04:00</td>\n",
       "      <td>430.39</td>\n",
       "    </tr>\n",
       "    <tr>\n",
       "      <th>4</th>\n",
       "      <td>2015-12-31 19:05:00</td>\n",
       "      <td>430.96</td>\n",
       "    </tr>\n",
       "  </tbody>\n",
       "</table>\n",
       "</div>"
      ],
      "text/plain": [
       "             Timestamp  close_float\n",
       "0  2015-12-31 19:01:00       430.40\n",
       "1  2015-12-31 19:02:00       430.40\n",
       "2  2015-12-31 19:03:00       430.36\n",
       "3  2015-12-31 19:04:00       430.39\n",
       "4  2015-12-31 19:05:00       430.96"
      ]
     },
     "execution_count": 14,
     "metadata": {
      "tags": []
     },
     "output_type": "execute_result"
    }
   ],
   "source": [
    "# Use loc or iloc to select `Timestamp (the index)` and `Close` from coinbase DataFrame\n",
    "\n",
    "coinbase_sliced = coinbase.loc[:,['Timestamp','close_float']]\n",
    "# Review the first five rows of the DataFrame\n",
    "# YOUR CODE HERE\n",
    "coinbase_sliced.head(5)\n",
    "# Review the first five rows of the DataFrame\n",
    "# YOUR CODE HERE\n"
   ]
  },
  {
   "cell_type": "markdown",
   "metadata": {
    "id": "BFrxh8f5BdHT"
   },
   "source": [
    "### Step 2: Get summary statistics and plot the data.\n",
    "\n",
    "Sort through the time series data associated with the bitstamp and coinbase DataFrames to identify potential arbitrage opportunities. To do so, complete the following steps:\n",
    "\n",
    "1. Generate the summary statistics for each DataFrame by using the `describe` function.\n",
    "\n",
    "2. For each DataFrame, create a line plot for the full period of time in the dataset. Be sure to tailor the figure size, title, and color to each visualization.\n",
    "\n",
    "3. In one plot, overlay the visualizations that you created in Step 2 for bitstamp and coinbase. Be sure to adjust the legend and title for this new visualization.\n",
    "\n",
    "4. Using the `loc` and `plot` functions, plot the price action of the assets on each exchange for different dates and times. Your goal is to evaluate how the spread between the two exchanges changed across the time period that the datasets define. Did the degree of spread change as time progressed?"
   ]
  },
  {
   "cell_type": "code",
   "execution_count": 15,
   "metadata": {
    "colab": {
     "base_uri": "https://localhost:8080/"
    },
    "id": "jtyLkmm5BdHT",
    "outputId": "a334d2b5-3c83-45d0-d8d1-1db45b3cc626"
   },
   "outputs": [
    {
     "data": {
      "text/plain": [
       "count    1.350419e+06\n",
       "mean     4.496885e+03\n",
       "std      3.955763e+03\n",
       "min      1.500000e+00\n",
       "25%      7.849200e+02\n",
       "50%      3.781800e+03\n",
       "75%      6.923000e+03\n",
       "max      1.966575e+04\n",
       "Name: close_float, dtype: float64"
      ]
     },
     "execution_count": 15,
     "metadata": {
      "tags": []
     },
     "output_type": "execute_result"
    }
   ],
   "source": [
    "# Generate the summary statistics for the bitstamp DataFrame\n",
    "# YOUR CODE HERE\n",
    "bitstamp.describe()['close_float']"
   ]
  },
  {
   "cell_type": "code",
   "execution_count": 16,
   "metadata": {
    "colab": {
     "base_uri": "https://localhost:8080/"
    },
    "id": "S-am28ASBdHU",
    "outputId": "608af450-a492-4af9-871d-b06681b900c6"
   },
   "outputs": [
    {
     "data": {
      "text/plain": [
       "count    1.550147e+06\n",
       "mean     4.090615e+03\n",
       "std      3.913308e+03\n",
       "min      6.000000e-02\n",
       "25%      6.751800e+02\n",
       "50%      2.709800e+03\n",
       "75%      6.592835e+03\n",
       "max      1.989199e+04\n",
       "Name: close_float, dtype: float64"
      ]
     },
     "execution_count": 16,
     "metadata": {
      "tags": []
     },
     "output_type": "execute_result"
    }
   ],
   "source": [
    "# Generate the summary statistics for the coinbase DataFrame\n",
    "# YOUR CODE HERE\n",
    "coinbase['close_float'].describe()"
   ]
  },
  {
   "cell_type": "code",
   "execution_count": 17,
   "metadata": {
    "colab": {
     "base_uri": "https://localhost:8080/",
     "height": 295
    },
    "id": "SYHnjfnPBdHU",
    "outputId": "edc39051-102e-49aa-f0c5-e39a1b32179d"
   },
   "outputs": [
    {
     "data": {
      "text/plain": [
       "<matplotlib.axes._subplots.AxesSubplot at 0x7f6efc586e50>"
      ]
     },
     "execution_count": 17,
     "metadata": {
      "tags": []
     },
     "output_type": "execute_result"
    },
    {
     "data": {
      "image/png": "[encoded data removed]",
      "text/plain": [
       "<Figure size 432x288 with 1 Axes>"
      ]
     },
     "metadata": {
      "needs_background": "light",
      "tags": []
     },
     "output_type": "display_data"
    }
   ],
   "source": [
    "# Create a line plot for the bitstamp DataFrame for the full length of time in the dataset \n",
    "# Be sure that the figure size, title, and color are tailored to each visualization\n",
    "# YOUR CODE HERE\n",
    "bitstamp_sliced.plot()"
   ]
  },
  {
   "cell_type": "code",
   "execution_count": 18,
   "metadata": {
    "colab": {
     "base_uri": "https://localhost:8080/",
     "height": 295
    },
    "id": "OsOZ3bnqBdHU",
    "outputId": "2487acdd-9147-47d3-e05a-17209dfc1328"
   },
   "outputs": [
    {
     "data": {
      "text/plain": [
       "<matplotlib.axes._subplots.AxesSubplot at 0x7f6efe54b490>"
      ]
     },
     "execution_count": 18,
     "metadata": {
      "tags": []
     },
     "output_type": "execute_result"
    },
    {
     "data": {
      "image/png": "[encoded data removed]",
      "text/plain": [
       "<Figure size 432x288 with 1 Axes>"
      ]
     },
     "metadata": {
      "needs_background": "light",
      "tags": []
     },
     "output_type": "display_data"
    }
   ],
   "source": [
    "# Create a line plot for the coinbase DataFrame for the full length of time in the dataset \n",
    "# Be sure that the figure size, title, and color are tailored to each visualization\n",
    "# YOUR CODE HERE\n",
    "coinbase_sliced.plot()"
   ]
  },
  {
   "cell_type": "code",
   "execution_count": 19,
   "metadata": {
    "colab": {
     "base_uri": "https://localhost:8080/",
     "height": 392
    },
    "id": "z1_D0VpfBdHV",
    "outputId": "7fa8245e-a881-4257-d4ac-a092f621568d"
   },
   "outputs": [
    {
     "data": {
      "text/plain": [
       "<matplotlib.axes._subplots.AxesSubplot at 0x7f6efe036f10>"
      ]
     },
     "execution_count": 19,
     "metadata": {
      "tags": []
     },
     "output_type": "execute_result"
    },
    {
     "data": {
      "image/png": "[encoded data removed]",
      "text/plain": [
       "<Figure size 432x288 with 1 Axes>"
      ]
     },
     "metadata": {
      "needs_background": "light",
      "tags": []
     },
     "output_type": "display_data"
    }
   ],
   "source": [
    "# Overlay the visualizations for the bitstamp and coinbase DataFrames in one plot\n",
    "# The plot should visualize the prices over the full lenth of the dataset\n",
    "# Be sure to include the parameters: legend, figure size, title, and color and label\n",
    "# YOUR CODE HERE\n",
    "bit_plot = bitstamp_sliced.plot(x='Timestamp',y='close_float',stacked=True, legend=True,rot=90)\n",
    "coinbase_sliced.plot(x='Timestamp',y='close_float',kind = 'line', ax=bit_plot,rot=90)\n",
    "# add title and legend\n"
   ]
  },
  {
   "cell_type": "code",
   "execution_count": 27,
   "metadata": {
    "colab": {
     "base_uri": "https://localhost:8080/",
     "height": 625
    },
    "id": "gTKZFC3MBdHV",
    "outputId": "6256bef4-bb4c-45e7-a173-f421169e59c6"
   },
   "outputs": [
    {
     "data": {
      "text/plain": [
       "<matplotlib.axes._subplots.AxesSubplot at 0x7f6efb5acf50>"
      ]
     },
     "execution_count": 27,
     "metadata": {
      "tags": []
     },
     "output_type": "execute_result"
    },
    {
     "data": {
      "image/png": "[encoded data removed]",
      "text/plain": [
       "<Figure size 720x576 with 1 Axes>"
      ]
     },
     "metadata": {
      "needs_background": "light",
      "tags": []
     },
     "output_type": "display_data"
    }
   ],
   "source": [
    "# Using the loc and plot functions, create an overlay plot that visualizes \n",
    "# the price action of both DataFrames for a one month period early in the dataset\n",
    "# Be sure to include the parameters: legend, figure size, title, and color and label\n",
    "# YOUR CODE HERE\n",
    "\n",
    "\n",
    "\n",
    "\n",
    "starttime = '2016-01-31 20:41:00'\n",
    "endtime = '2016-02-31 20:41:00'\n",
    "\n",
    "def filter_bitstamp_coinbase_by_date(starttime,endtime,bitstamp_sliced=bitstamp_sliced,coinbase_sliced=coinbase_sliced):\n",
    "\n",
    "  bitstamp_sliced_filtered = bitstamp_sliced.loc[((bitstamp_sliced.loc[:,'Timestamp'] > starttime) & (bitstamp_sliced.loc[:,'Timestamp'] < endtime)),:]\n",
    "  coinbase_sliced_filtered = coinbase_sliced.loc[((coinbase_sliced.loc[:,'Timestamp'] > starttime) & (coinbase_sliced.loc[:,'Timestamp'] < endtime)),:]\n",
    "  return bitstamp_sliced_filtered,coinbase_sliced_filtered\n",
    "\n",
    "\n",
    "bitstamp_sliced_month_early,coinbase_sliced_month_early = filter_bitstamp_coinbase_by_date(starttime,endtime)\n",
    "bit_plot =bitstamp_sliced_month_early.plot(x='Timestamp',y='close_float', legend=True,rot=90,figsize=(10,8),title='One month price')\n",
    "coinbase_sliced_month_early.plot(x='Timestamp',y='close_float',kind = 'line', ax=bit_plot,rot=90)\n",
    "\n",
    "\n"
   ]
  },
  {
   "cell_type": "code",
   "execution_count": null,
   "metadata": {
    "colab": {
     "base_uri": "https://localhost:8080/",
     "height": 392
    },
    "id": "H1ejqX-VBdHV",
    "outputId": "1c6b3637-cbc4-4c0b-b17e-444d093c8b00"
   },
   "outputs": [
    {
     "data": {
      "text/plain": [
       "<matplotlib.axes._subplots.AxesSubplot at 0x7f801f4e2310>"
      ]
     },
     "execution_count": 44,
     "metadata": {
      "tags": []
     },
     "output_type": "execute_result"
    },
    {
     "data": {
      "image/png": "[encoded data removed]",
      "text/plain": [
       "<Figure size 432x288 with 1 Axes>"
      ]
     },
     "metadata": {
      "needs_background": "light",
      "tags": []
     },
     "output_type": "display_data"
    }
   ],
   "source": [
    "# Using the loc and plot functions, create an overlay plot that visualizes \n",
    "# the price action of both DataFrames for a one month period later in the dataset\n",
    "# Be sure to include the parameters: legend, figure size, title, and color and label \n",
    "# YOUR CODE HERE\n",
    "starttime = '2017-05-31 20:41:00'\n",
    "endtime = '2017-06-31 20:41:00'\n",
    "\n",
    "bitstamp_sliced_mid = bitstamp_sliced.loc[((bitstamp_sliced.loc[:,'Timestamp'] > starttime) & (bitstamp_sliced.loc[:,'Timestamp'] < endtime)),:]\n",
    "coinbase_sliced_mid = coinbase_sliced.loc[((coinbase_sliced.loc[:,'Timestamp'] > starttime) & (coinbase_sliced.loc[:,'Timestamp'] < endtime)),:]\n",
    "\n",
    "bit_plot = bitstamp_sliced_mid.plot(x='Timestamp',y='close_float',stacked=True, legend=True,rot=90)\n",
    "coinbase_sliced_mid.plot(x='Timestamp',y='close_float',kind = 'line', ax=bit_plot,rot=90)\n",
    "\n"
   ]
  },
  {
   "cell_type": "code",
   "execution_count": null,
   "metadata": {
    "colab": {
     "base_uri": "https://localhost:8080/",
     "height": 392
    },
    "id": "QC-IbqItGllE",
    "outputId": "18a0d3af-95af-47fc-f990-44bc371f13ab"
   },
   "outputs": [
    {
     "data": {
      "text/plain": [
       "<matplotlib.axes._subplots.AxesSubplot at 0x7f801f3bb110>"
      ]
     },
     "execution_count": 46,
     "metadata": {
      "tags": []
     },
     "output_type": "execute_result"
    },
    {
     "data": {
      "image/png": "[encoded data removed]",
      "text/plain": [
       "<Figure size 432x288 with 1 Axes>"
      ]
     },
     "metadata": {
      "needs_background": "light",
      "tags": []
     },
     "output_type": "display_data"
    }
   ],
   "source": [
    "starttime = '2018-05-31 20:41:00'\n",
    "endtime = '2018-06-31 20:41:00'\n",
    "\n",
    "bitstamp_sliced_late = bitstamp_sliced.loc[((bitstamp_sliced.loc[:,'Timestamp'] > starttime) & (bitstamp_sliced.loc[:,'Timestamp'] < endtime)),:]\n",
    "coinbase_sliced_late = coinbase_sliced.loc[((coinbase_sliced.loc[:,'Timestamp'] > starttime) & (coinbase_sliced.loc[:,'Timestamp'] < endtime)),:]\n",
    "\n",
    "bit_plot = bitstamp_sliced_late.plot(x='Timestamp',y='close_float',stacked=True, legend=True,rot=90)\n",
    "coinbase_sliced_late.plot(x='Timestamp',y='close_float',kind = 'line', ax=bit_plot,rot=90)\n"
   ]
  },
  {
   "cell_type": "markdown",
   "metadata": {
    "id": "nAQC78IZBdHV"
   },
   "source": [
    "**Question** Based on the visualizations of the different time periods, has the degree of spread change as time progressed?\n",
    "\n",
    "**Answer** # YOUR ANSWER HERE"
   ]
  },
  {
   "cell_type": "markdown",
   "metadata": {
    "id": "5ysQZvzUBdHW"
   },
   "source": [
    "### Step 3: Focus Your Analysis on Specific Dates\n",
    "\n",
    "Focus your analysis on specific dates by completing the following steps:\n",
    "\n",
    "1. Select three dates to evaluate for arbitrage profitability. Choose one date that’s early in the dataset, one from the middle of the dataset, and one from the last year of the time period.\n",
    "\n",
    "2. For each of the three dates, generate the summary statistics and then create a box plot. This big-picture view is meant to help you gain a better understanding of the data before you perform your arbitrage calculations. As you compare the data, what conclusions can you draw?"
   ]
  },
  {
   "cell_type": "code",
   "execution_count": 28,
   "metadata": {
    "id": "4iVIZMmmBdHW"
   },
   "outputs": [],
   "source": [
    "# Create an overlay plot that visualizes the two dataframes over a period of one day early in the dataset \n",
    "# Be sure that the plots include the parameters `legend`, `figsize`, `title`, `color` and `label` \n",
    "# YOUR CODE HERE\n",
    "\n",
    "starttime = '2016-06-11 20:41:00'\n",
    "endtime = '2016-06-12 20:41:00'\n",
    "\n"
   ]
  },
  {
   "cell_type": "code",
   "execution_count": null,
   "metadata": {
    "colab": {
     "base_uri": "https://localhost:8080/"
    },
    "id": "tDfVkEMXBdHW",
    "outputId": "a0b3c122-9350-4856-e856-621cef4dedd2",
    "tags": []
   },
   "outputs": [
    {
     "data": {
      "text/plain": [
       "count    1228.000000\n",
       "mean      642.270855\n",
       "std        16.835717\n",
       "min       606.300000\n",
       "25%       628.500000\n",
       "50%       642.030000\n",
       "75%       647.000000\n",
       "max       683.000000\n",
       "Name: close_float, dtype: float64"
      ]
     },
     "execution_count": 49,
     "metadata": {
      "tags": []
     },
     "output_type": "execute_result"
    }
   ],
   "source": [
    "# Using the early date that you have selected, calculate the arbitrage spread \n",
    "# by subtracting the bitstamp lower closing prices from the coinbase higher closing prices\n",
    "arbitrage_spread_early = bitstamp_sliced_day_early['close_float']\n",
    "arbitrage_spread_early.describe()\n",
    "# Generate summary statistics for the early DataFrame\n",
    "# YOUR CODE HERE\n"
   ]
  },
  {
   "cell_type": "code",
   "execution_count": null,
   "metadata": {
    "colab": {
     "base_uri": "https://localhost:8080/",
     "height": 283
    },
    "id": "k4U6tcg-BdHW",
    "outputId": "5787cd44-b166-4a06-d13f-04e61be91b3f"
   },
   "outputs": [
    {
     "data": {
      "text/plain": [
       "<matplotlib.axes._subplots.AxesSubplot at 0x7f801f6d54d0>"
      ]
     },
     "execution_count": 53,
     "metadata": {
      "tags": []
     },
     "output_type": "execute_result"
    },
    {
     "data": {
      "image/png": "[encoded data removed]",
      "text/plain": [
       "<Figure size 432x288 with 1 Axes>"
      ]
     },
     "metadata": {
      "needs_background": "light",
      "tags": []
     },
     "output_type": "display_data"
    }
   ],
   "source": [
    "# Visualize the arbitrage spread from early in the dataset in a box plot\n",
    "# Be sure to include at least a title with your plot\n",
    "# YOUR CODE HERE\n",
    "bitstamp_sliced_day_early.boxplot()\n"
   ]
  },
  {
   "cell_type": "code",
   "execution_count": null,
   "metadata": {
    "colab": {
     "base_uri": "https://localhost:8080/",
     "height": 392
    },
    "id": "u0YrpKAqBdHX",
    "outputId": "7c97f0b8-0e88-47fb-9ec3-7ca970ec82b1"
   },
   "outputs": [
    {
     "data": {
      "text/plain": [
       "<matplotlib.axes._subplots.AxesSubplot at 0x7f801fc11710>"
      ]
     },
     "execution_count": 59,
     "metadata": {
      "tags": []
     },
     "output_type": "execute_result"
    },
    {
     "data": {
      "image/png": "[encoded data removed]",
      "text/plain": [
       "<Figure size 432x288 with 1 Axes>"
      ]
     },
     "metadata": {
      "needs_background": "light",
      "tags": []
     },
     "output_type": "display_data"
    }
   ],
   "source": [
    "# Create an overlay plot that visualizes the two dataframes over a period of one day from the middle of the dataset. \n",
    "# Be sure that the plots include the parameters `legend`, `figsize`, `title`, `color` and `label` \n",
    "# YOUR CODE HERE\n",
    "\n",
    "starttime = '2017-06-11 20:41:00'\n",
    "endtime = '2017-06-12 20:41:00'\n",
    "\n",
    "bitstamp_sliced_day_mid = bitstamp_sliced.loc[((bitstamp_sliced.loc[:,'Timestamp'] > starttime) & (bitstamp_sliced.loc[:,'Timestamp'] < endtime)),:]\n",
    "coinbase_sliced_day_mid = coinbase_sliced.loc[((coinbase_sliced.loc[:,'Timestamp'] > starttime) & (coinbase_sliced.loc[:,'Timestamp'] < endtime)),:]\n",
    "\n",
    "bit_plot = bitstamp_sliced_day_mid.plot(x='Timestamp',y='close_float',stacked=True, legend=True,rot=90)\n",
    "coinbase_sliced_day_mid.plot(x='Timestamp',y='close_float',kind = 'line', ax=bit_plot,rot=90)\n"
   ]
  },
  {
   "cell_type": "code",
   "execution_count": null,
   "metadata": {
    "colab": {
     "base_uri": "https://localhost:8080/",
     "height": 297
    },
    "id": "V-i-m0bEBdHX",
    "outputId": "c5c8059f-1706-4550-aa8b-2e2dd16b5db6"
   },
   "outputs": [
    {
     "data": {
      "text/html": [
       "<div>\n",
       "<style scoped>\n",
       "    .dataframe tbody tr th:only-of-type {\n",
       "        vertical-align: middle;\n",
       "    }\n",
       "\n",
       "    .dataframe tbody tr th {\n",
       "        vertical-align: top;\n",
       "    }\n",
       "\n",
       "    .dataframe thead th {\n",
       "        text-align: right;\n",
       "    }\n",
       "</style>\n",
       "<table border=\"1\" class=\"dataframe\">\n",
       "  <thead>\n",
       "    <tr style=\"text-align: right;\">\n",
       "      <th></th>\n",
       "      <th>close_float</th>\n",
       "    </tr>\n",
       "  </thead>\n",
       "  <tbody>\n",
       "    <tr>\n",
       "      <th>count</th>\n",
       "      <td>1392.000000</td>\n",
       "    </tr>\n",
       "    <tr>\n",
       "      <th>mean</th>\n",
       "      <td>2790.302421</td>\n",
       "    </tr>\n",
       "    <tr>\n",
       "      <th>std</th>\n",
       "      <td>142.026622</td>\n",
       "    </tr>\n",
       "    <tr>\n",
       "      <th>min</th>\n",
       "      <td>2498.990000</td>\n",
       "    </tr>\n",
       "    <tr>\n",
       "      <th>25%</th>\n",
       "      <td>2661.055000</td>\n",
       "    </tr>\n",
       "    <tr>\n",
       "      <th>50%</th>\n",
       "      <td>2773.720000</td>\n",
       "    </tr>\n",
       "    <tr>\n",
       "      <th>75%</th>\n",
       "      <td>2946.252500</td>\n",
       "    </tr>\n",
       "    <tr>\n",
       "      <th>max</th>\n",
       "      <td>2980.000000</td>\n",
       "    </tr>\n",
       "  </tbody>\n",
       "</table>\n",
       "</div>"
      ],
      "text/plain": [
       "       close_float\n",
       "count  1392.000000\n",
       "mean   2790.302421\n",
       "std     142.026622\n",
       "min    2498.990000\n",
       "25%    2661.055000\n",
       "50%    2773.720000\n",
       "75%    2946.252500\n",
       "max    2980.000000"
      ]
     },
     "execution_count": 60,
     "metadata": {
      "tags": []
     },
     "output_type": "execute_result"
    }
   ],
   "source": [
    "# Using the date form the middle that you have selected, calculate the arbitrage spread \n",
    "# by subtracting the bitstamp lower closing prices from the coinbase higher closing prices\n",
    "arbitrage_spread_middle = bitstamp_sliced_day_mid\n",
    "\n",
    "# Generate summary statistics for the middle DataFrame\n",
    "# YOUR CODE HERE\n",
    "bitstamp_sliced_day_mid.describe()"
   ]
  },
  {
   "cell_type": "code",
   "execution_count": null,
   "metadata": {
    "colab": {
     "base_uri": "https://localhost:8080/",
     "height": 286
    },
    "id": "4_JuFZDNBdHX",
    "outputId": "16b1a54a-f95c-40dd-af39-69e017324708"
   },
   "outputs": [
    {
     "data": {
      "text/plain": [
       "<matplotlib.axes._subplots.AxesSubplot at 0x7f801f1e4ed0>"
      ]
     },
     "execution_count": 61,
     "metadata": {
      "tags": []
     },
     "output_type": "execute_result"
    },
    {
     "data": {
      "image/png": "[encoded data removed]",
      "text/plain": [
       "<Figure size 432x288 with 1 Axes>"
      ]
     },
     "metadata": {
      "needs_background": "light",
      "tags": []
     },
     "output_type": "display_data"
    }
   ],
   "source": [
    "# Visualize the arbitrage spread from the middle of the dataset in a box plot\n",
    "# Be sure to include at least a title with your plot\n",
    "# YOUR CODE HERE\n",
    "bitstamp_sliced_day_mid.boxplot()"
   ]
  },
  {
   "cell_type": "code",
   "execution_count": null,
   "metadata": {
    "colab": {
     "base_uri": "https://localhost:8080/",
     "height": 392
    },
    "id": "P5ZtIP4LBdHY",
    "outputId": "baf04f9c-0776-47d4-ac87-8b509645a12a"
   },
   "outputs": [
    {
     "data": {
      "text/plain": [
       "<matplotlib.axes._subplots.AxesSubplot at 0x7f801f16cc10>"
      ]
     },
     "execution_count": 62,
     "metadata": {
      "tags": []
     },
     "output_type": "execute_result"
    },
    {
     "data": {
      "image/png": "[encoded data removed]",
      "text/plain": [
       "<Figure size 432x288 with 1 Axes>"
      ]
     },
     "metadata": {
      "needs_background": "light",
      "tags": []
     },
     "output_type": "display_data"
    }
   ],
   "source": [
    "# Create an overlay plot that visualizes the two dataframes over a period of one day from late in the dataset\n",
    "# Be sure that the plots include the parameters `legend`, `figsize`, `title`, `color` and `label` \n",
    "# YOUR CODE HERE\n",
    "\n",
    "\n",
    "starttime = '2018-06-11 20:41:00'\n",
    "endtime = '2018-06-12 20:41:00'\n",
    "\n",
    "bitstamp_sliced_day_late = bitstamp_sliced.loc[((bitstamp_sliced.loc[:,'Timestamp'] > starttime) & (bitstamp_sliced.loc[:,'Timestamp'] < endtime)),:]\n",
    "coinbase_sliced_day_late = coinbase_sliced.loc[((coinbase_sliced.loc[:,'Timestamp'] > starttime) & (coinbase_sliced.loc[:,'Timestamp'] < endtime)),:]\n",
    "\n",
    "bit_plot = bitstamp_sliced_day_late.plot(x='Timestamp',y='close_float',stacked=True, legend=True,rot=90)\n",
    "coinbase_sliced_day_late.plot(x='Timestamp',y='close_float',kind = 'line', ax=bit_plot,rot=90)"
   ]
  },
  {
   "cell_type": "code",
   "execution_count": null,
   "metadata": {
    "colab": {
     "base_uri": "https://localhost:8080/",
     "height": 297
    },
    "id": "gi5InxnBBdHY",
    "outputId": "e2d02246-e8ab-4c6f-dd1f-1f49a71ef910"
   },
   "outputs": [
    {
     "data": {
      "text/html": [
       "<div>\n",
       "<style scoped>\n",
       "    .dataframe tbody tr th:only-of-type {\n",
       "        vertical-align: middle;\n",
       "    }\n",
       "\n",
       "    .dataframe tbody tr th {\n",
       "        vertical-align: top;\n",
       "    }\n",
       "\n",
       "    .dataframe thead th {\n",
       "        text-align: right;\n",
       "    }\n",
       "</style>\n",
       "<table border=\"1\" class=\"dataframe\">\n",
       "  <thead>\n",
       "    <tr style=\"text-align: right;\">\n",
       "      <th></th>\n",
       "      <th>close_float</th>\n",
       "    </tr>\n",
       "  </thead>\n",
       "  <tbody>\n",
       "    <tr>\n",
       "      <th>count</th>\n",
       "      <td>1437.000000</td>\n",
       "    </tr>\n",
       "    <tr>\n",
       "      <th>mean</th>\n",
       "      <td>6745.800348</td>\n",
       "    </tr>\n",
       "    <tr>\n",
       "      <th>std</th>\n",
       "      <td>123.832129</td>\n",
       "    </tr>\n",
       "    <tr>\n",
       "      <th>min</th>\n",
       "      <td>6461.420000</td>\n",
       "    </tr>\n",
       "    <tr>\n",
       "      <th>25%</th>\n",
       "      <td>6706.360000</td>\n",
       "    </tr>\n",
       "    <tr>\n",
       "      <th>50%</th>\n",
       "      <td>6814.290000</td>\n",
       "    </tr>\n",
       "    <tr>\n",
       "      <th>75%</th>\n",
       "      <td>6844.200000</td>\n",
       "    </tr>\n",
       "    <tr>\n",
       "      <th>max</th>\n",
       "      <td>6875.980000</td>\n",
       "    </tr>\n",
       "  </tbody>\n",
       "</table>\n",
       "</div>"
      ],
      "text/plain": [
       "       close_float\n",
       "count  1437.000000\n",
       "mean   6745.800348\n",
       "std     123.832129\n",
       "min    6461.420000\n",
       "25%    6706.360000\n",
       "50%    6814.290000\n",
       "75%    6844.200000\n",
       "max    6875.980000"
      ]
     },
     "execution_count": 63,
     "metadata": {
      "tags": []
     },
     "output_type": "execute_result"
    }
   ],
   "source": [
    "# Using th date from late in the dataset that you have selected, calculate the arbitrage spread \n",
    "# by subtracting the bitstamp lower closing prices from the coinbase higher closing prices\n",
    "arbitrage_spread_late = bitstamp_sliced_day_late\n",
    "\n",
    "# Generate summary statistics for the late DataFrame\n",
    "# YOUR CODE HERE\n",
    "bitstamp_sliced_day_late.describe()\n"
   ]
  },
  {
   "cell_type": "code",
   "execution_count": null,
   "metadata": {
    "colab": {
     "base_uri": "https://localhost:8080/",
     "height": 283
    },
    "id": "1RvVYsxuBdHY",
    "outputId": "dbf2ebbe-1ba7-4305-992f-110f26a16ccc"
   },
   "outputs": [
    {
     "data": {
      "text/plain": [
       "<matplotlib.axes._subplots.AxesSubplot at 0x7f801f03ea50>"
      ]
     },
     "execution_count": 64,
     "metadata": {
      "tags": []
     },
     "output_type": "execute_result"
    },
    {
     "data": {
      "image/png": "[encoded data removed]",
      "text/plain": [
       "<Figure size 432x288 with 1 Axes>"
      ]
     },
     "metadata": {
      "needs_background": "light",
      "tags": []
     },
     "output_type": "display_data"
    }
   ],
   "source": [
    "# Visualize the arbitrage spread from late in the dataset in a box plot\n",
    "# Be sure to include at least a title with your plot\n",
    "# YOUR CODE HERE\n",
    "bitstamp_sliced_day_late.boxplot()"
   ]
  },
  {
   "cell_type": "markdown",
   "metadata": {
    "id": "SD_RhYgKBdHY"
   },
   "source": [
    "### Step 4: Calculate the Arbitrage Profits\n",
    "\n",
    "Calculate the potential profits for each date that you selected in the previous section. Your goal is to determine whether arbitrage opportunities still exist in the Bitcoin market. Complete the following steps:\n",
    "\n",
    "1. For each of the three dates, measure the arbitrage spread between the two exchanges by subtracting the lower-priced exchange from the higher-priced one. Then use a conditional statement to generate the summary statistics for each arbitrage_spread DataFrame, where the spread is greater than zero.\n",
    "\n",
    "2. For each of the three dates, calculate the spread returns. To do so, divide the instances that have a positive arbitrage spread (that is, a spread greater than zero) by the price of Bitcoin from the exchange you’re buying on (that is, the lower-priced exchange). Review the resulting DataFrame.\n",
    "\n",
    "3. For each of the three dates, narrow down your trading opportunities even further. To do so, determine the number of times your trades with positive returns exceed the 1% minimum threshold that you need to cover your costs.\n",
    "\n",
    "4. Generate the summary statistics of your spread returns that are greater than 1%. How do the average returns compare among the three dates?\n",
    "\n",
    "5. For each of the three dates, calculate the potential profit, in dollars, per trade. To do so, multiply the spread returns that were greater than 1% by the cost of what was purchased. Make sure to drop any missing values from the resulting DataFrame.\n",
    "\n",
    "6. Generate the summary statistics, and plot the results for each of the three DataFrames.\n",
    "\n",
    "7. Calculate the potential arbitrage profits that you can make on each day. To do so, sum the elements in the profit_per_trade DataFrame.\n",
    "\n",
    "8. Using the `cumsum` function, plot the cumulative sum of each of the three DataFrames. Can you identify any patterns or trends in the profits across the three time periods?\n",
    "\n",
    "(NOTE: The starter code displays only one date. You'll want to do this analysis for two additional dates)."
   ]
  },
  {
   "cell_type": "markdown",
   "metadata": {
    "id": "Sa4zyRTHBdHZ"
   },
   "source": [
    "#### 1. For each of the three dates, measure the arbitrage spread between the two exchanges by subtracting the lower-priced exchange from the higher-priced one. Then use a conditional statement to generate the summary statistics for each arbitrage_spread DataFrame, where the spread is greater than zero."
   ]
  },
  {
   "cell_type": "code",
   "execution_count": null,
   "metadata": {
    "colab": {
     "base_uri": "https://localhost:8080/",
     "height": 130
    },
    "id": "yHqyTqMwBdHZ",
    "outputId": "d41f9931-2491-4806-f843-9e60df47309b"
   },
   "outputs": [
    {
     "ename": "SyntaxError",
     "evalue": "ignored",
     "output_type": "error",
     "traceback": [
      "\u001b[0;36m  File \u001b[0;32m\"<ipython-input-65-88c3a6aa7930>\"\u001b[0;36m, line \u001b[0;32m3\u001b[0m\n\u001b[0;31m    arbitrage_spread_early = # YOUR CODE HERE\u001b[0m\n\u001b[0m                                             ^\u001b[0m\n\u001b[0;31mSyntaxError\u001b[0m\u001b[0;31m:\u001b[0m invalid syntax\n"
     ]
    }
   ],
   "source": [
    "# For the date early in the dataset, measure the arbitrage spread between the two exchanges\n",
    "# by subtracting the lower-priced exchange from the higher-priced one\n",
    "arbitrage_spread_early = # YOUR CODE HERE\n",
    "\n",
    "# Use a conditional statement to generate the summary statistics for each arbitrage_spread DataFrame\n",
    "# YOUR CODE HERE\n"
   ]
  },
  {
   "cell_type": "code",
   "execution_count": null,
   "metadata": {
    "colab": {
     "base_uri": "https://localhost:8080/",
     "height": 130
    },
    "id": "KrhaymQCBdHZ",
    "outputId": "04ebf1d0-1a50-4f4f-ae72-bd855d07a4c3"
   },
   "outputs": [
    {
     "ename": "SyntaxError",
     "evalue": "ignored",
     "output_type": "error",
     "traceback": [
      "\u001b[0;36m  File \u001b[0;32m\"<ipython-input-57-04004184474a>\"\u001b[0;36m, line \u001b[0;32m3\u001b[0m\n\u001b[0;31m    arbitrage_spread_middle = # YOUR CODE HERE\u001b[0m\n\u001b[0m                                              ^\u001b[0m\n\u001b[0;31mSyntaxError\u001b[0m\u001b[0;31m:\u001b[0m invalid syntax\n"
     ]
    }
   ],
   "source": [
    "# For the from the middle of the dataset, measure the arbitrage spread between the two exchanges\n",
    "# by subtracting the lower-priced exchange from the higher-priced one\n",
    "arbitrage_spread_middle = # YOUR CODE HERE\n",
    "\n",
    "# Use a conditional statement to generate the summary statistics for each arbitrage_spread DataFrame\n",
    "# YOUR CODE HERE\n"
   ]
  },
  {
   "cell_type": "code",
   "execution_count": null,
   "metadata": {
    "colab": {
     "base_uri": "https://localhost:8080/",
     "height": 130
    },
    "id": "SiQsubY1BdHZ",
    "outputId": "e5498942-0206-4f2c-edf6-eb47c7070701"
   },
   "outputs": [
    {
     "ename": "SyntaxError",
     "evalue": "ignored",
     "output_type": "error",
     "traceback": [
      "\u001b[0;36m  File \u001b[0;32m\"<ipython-input-58-0b80a14dfae8>\"\u001b[0;36m, line \u001b[0;32m3\u001b[0m\n\u001b[0;31m    arbitrage_spread_late = # YOUR CODE HERE\u001b[0m\n\u001b[0m                                            ^\u001b[0m\n\u001b[0;31mSyntaxError\u001b[0m\u001b[0;31m:\u001b[0m invalid syntax\n"
     ]
    }
   ],
   "source": [
    "# For the date late in the dataset, measure the arbitrage spread between the two exchanges\n",
    "# by subtracting the lower-priced exchange from the higher-priced one\n",
    "arbitrage_spread_late = # YOUR CODE HERE\n",
    "\n",
    "# Use a conditional statement to generate the summary statistics for each arbitrage_spread DataFrame\n",
    "# YOUR CODE HERE\n"
   ]
  },
  {
   "cell_type": "markdown",
   "metadata": {
    "id": "vElSDLTFBdHZ"
   },
   "source": [
    "#### 2. For each of the three dates, calculate the spread returns. To do so, divide the instances that have a positive arbitrage spread (that is, a spread greater than zero) by the price of Bitcoin from the exchange you’re buying on (that is, the lower-priced exchange). Review the resulting DataFrame."
   ]
  },
  {
   "cell_type": "code",
   "execution_count": null,
   "metadata": {
    "id": "9wF3t8WyBdHa",
    "outputId": "0c22f11c-2766-46e6-a3e6-522c93fdbd88"
   },
   "outputs": [
    {
     "data": {
      "text/plain": [
       "Timestamp\n",
       "2016-07-22 00:01:00    0.005602\n",
       "2016-07-22 00:02:00    0.005602\n",
       "2016-07-22 00:08:00    0.006573\n",
       "2016-07-22 00:11:00    0.004367\n",
       "2016-07-22 00:14:00    0.004773\n",
       "Name: Close, dtype: float64"
      ]
     },
     "execution_count": 66,
     "metadata": {
      "tags": []
     },
     "output_type": "execute_result"
    }
   ],
   "source": [
    "# For the date early in the dataset, calculate the spread returns by dividing \n",
    "# the instances when the arbitrage spread is positive (> 0) by the price of Bitcoin \n",
    "# from the exchange you are buying on (the lower-priced exchange)\n",
    "spread_return_early = # YOUR CODE HERE\n",
    "\n",
    "# Review the spread return DataFrame\n",
    "# YOUR CODE HERE\n"
   ]
  },
  {
   "cell_type": "code",
   "execution_count": null,
   "metadata": {
    "id": "cE4qUdJ6BdHa"
   },
   "outputs": [],
   "source": [
    "# For the date in the middle of the dataset, calculate the spread returns by dividing \n",
    "# the instances when the arbitrage spread is positive (> 0)  by the price of Bitcoin \n",
    "# from the exchange you are buying on (the lower-priced exchange)\n",
    "spread_return_middle = # YOUR CODE HERE\n",
    "\n",
    "# Review the spread return DataFrame\n",
    "# YOUR CODE HERE\n"
   ]
  },
  {
   "cell_type": "code",
   "execution_count": null,
   "metadata": {
    "id": "MH-6EP67BdHa"
   },
   "outputs": [],
   "source": [
    "# For the date late in the dataset, calculate the spread returns by dividing \n",
    "# the instances when the arbitrage spread is positive (> 0)  by the price of Bitcoin \n",
    "# from the exchange you are buying on (the lower-priced exchange)\n",
    "spread_return_late = # YOUR CODE HERE\n",
    "\n",
    "# Review the spread return DataFrame\n",
    "# YOUR CODE HERE"
   ]
  },
  {
   "cell_type": "markdown",
   "metadata": {
    "id": "YY61PPlsBdHa"
   },
   "source": [
    "#### 3. For each of the three dates, narrow down your trading opportunities even further. To do so, determine the number of times your trades with positive returns exceed the 1% minimum threshold that you need to cover your costs."
   ]
  },
  {
   "cell_type": "code",
   "execution_count": null,
   "metadata": {
    "id": "o3jb9gSEBdHa",
    "outputId": "53095afb-0ad8-4722-e779-41f4d2c740de"
   },
   "outputs": [
    {
     "data": {
      "text/plain": [
       "Timestamp\n",
       "2016-07-22 20:03:00    0.011305\n",
       "2016-07-22 20:28:00    0.011028\n",
       "2016-07-22 20:41:00    0.011809\n",
       "2016-07-22 22:47:00    0.014141\n",
       "2016-07-22 22:48:00    0.011469\n",
       "Name: Close, dtype: float64"
      ]
     },
     "execution_count": 73,
     "metadata": {
      "tags": []
     },
     "output_type": "execute_result"
    }
   ],
   "source": [
    "# For the date early in the dataset, determine the number of times your trades with positive returns \n",
    "# exceed the 1% minimum threshold (.01) that you need to cover your costs\n",
    "profitable_trades_early = # YOUR CODE HERE\n",
    "\n",
    "# Review the first five profitable trades\n",
    "# YOUR CODE HERE\n"
   ]
  },
  {
   "cell_type": "code",
   "execution_count": null,
   "metadata": {
    "id": "FsvzbQueBdHb"
   },
   "outputs": [],
   "source": [
    "# For the date in the middle of the dataset, determine the number of times your trades with positive returns \n",
    "# exceed the 1% minimum threshold (.01) that you need to cover your costs\n",
    "profitable_trades_middle = # YOUR CODE HERE\n",
    "\n",
    "# Review the first five profitable trades\n",
    "# YOUR CODE HERE\n"
   ]
  },
  {
   "cell_type": "code",
   "execution_count": null,
   "metadata": {
    "id": "MEu7YEc5BdHb"
   },
   "outputs": [],
   "source": [
    "# For the date late in the dataset, determine the number of times your trades with positive returns \n",
    "# exceed the 1% minimum threshold (.01) that you need to cover your costs\n",
    "profitable_trades_middle = # YOUR CODE HERE\n",
    "\n",
    "# Review the first five profitable trades\n",
    "# YOUR CODE HERE\n"
   ]
  },
  {
   "cell_type": "markdown",
   "metadata": {
    "id": "4YsddsMRBdHb"
   },
   "source": [
    "#### 4. Generate the summary statistics of your spread returns that are greater than 1%. How do the average returns compare among the three dates?"
   ]
  },
  {
   "cell_type": "code",
   "execution_count": null,
   "metadata": {
    "id": "7PZg-aGpBdHb",
    "outputId": "fe2dab54-71be-420c-ed43-4f8d929590c3"
   },
   "outputs": [
    {
     "data": {
      "text/plain": [
       "count    18.000000\n",
       "mean      0.012131\n",
       "std       0.000936\n",
       "min       0.010992\n",
       "25%       0.011484\n",
       "50%       0.011799\n",
       "75%       0.012747\n",
       "max       0.014141\n",
       "Name: Close, dtype: float64"
      ]
     },
     "execution_count": 74,
     "metadata": {
      "tags": []
     },
     "output_type": "execute_result"
    }
   ],
   "source": [
    "# For the date early in the dataset, generate the summary statistics for the profitable trades\n",
    "# or you trades where the spread returns are are greater than 1%\n",
    "# YOUR CODE HERE\n"
   ]
  },
  {
   "cell_type": "code",
   "execution_count": null,
   "metadata": {
    "id": "49R5KZZ_BdHb"
   },
   "outputs": [],
   "source": [
    "# For the date in the middle of the dataset, generate the summary statistics for the profitable trades\n",
    "# or you trades where the spread returns are are greater than 1%\n",
    "# YOUR CODE HERE\n"
   ]
  },
  {
   "cell_type": "code",
   "execution_count": null,
   "metadata": {
    "id": "sKPMyoY2BdHb"
   },
   "outputs": [],
   "source": [
    "# For the date late in the dataset, generate the summary statistics for the profitable trades\n",
    "# or you trades where the spread returns are are greater than 1%\n",
    "# YOUR CODE HERE\n"
   ]
  },
  {
   "cell_type": "markdown",
   "metadata": {
    "id": "wT-UJ8ioBdHc"
   },
   "source": [
    "#### 5. For each of the three dates, calculate the potential profit, in dollars, per trade. To do so, multiply the spread returns that were greater than 1% by the cost of what was purchased. Make sure to drop any missing values from the resulting DataFrame."
   ]
  },
  {
   "cell_type": "code",
   "execution_count": null,
   "metadata": {
    "id": "FT6qv2LBBdHc",
    "outputId": "38f696b8-8c95-45f3-dee9-c0f0c9c503b7"
   },
   "outputs": [
    {
     "data": {
      "text/plain": [
       "Timestamp\n",
       "2016-07-22 20:03:00    7.32\n",
       "2016-07-22 20:28:00    7.16\n",
       "2016-07-22 20:41:00    7.67\n",
       "2016-07-22 22:47:00    9.21\n",
       "2016-07-22 22:48:00    7.49\n",
       "2016-07-22 22:50:00    7.43\n",
       "2016-07-22 22:52:00    7.70\n",
       "2016-07-22 22:56:00    8.89\n",
       "2016-07-22 23:08:00    7.53\n",
       "2016-07-22 23:32:00    7.80\n",
       "2016-07-22 23:33:00    7.69\n",
       "2016-07-22 23:34:00    7.65\n",
       "2016-07-22 23:38:00    7.18\n",
       "2016-07-22 23:40:00    7.82\n",
       "2016-07-22 23:41:00    8.89\n",
       "2016-07-22 23:44:00    8.35\n",
       "2016-07-22 23:46:00    8.38\n",
       "2016-07-22 23:58:00    8.23\n",
       "Name: Close, dtype: float64"
      ]
     },
     "execution_count": 75,
     "metadata": {
      "tags": []
     },
     "output_type": "execute_result"
    }
   ],
   "source": [
    "# For the date early in the dataset, calculate the potential profit per trade in dollars \n",
    "# Multiply the profitable trades by the cost of the Bitcoin that was purchased\n",
    "profit_early = # YOUR CODE HERE\n",
    "\n",
    "# Drop any missing values from the profit DataFrame\n",
    "profit_per_trade_early = # YOUR CODE HERE\n",
    "\n",
    "# View the early profit DataFrame\n",
    "# YOUR CODE HERE\n"
   ]
  },
  {
   "cell_type": "code",
   "execution_count": null,
   "metadata": {
    "id": "rdZeTIYlBdHc"
   },
   "outputs": [],
   "source": [
    "# For the date in the middle of the dataset, calculate the potential profit per trade in dollars \n",
    "# Multiply the profitable trades by the cost of the Bitcoin that was purchased\n",
    "profit_middle = # YOUR CODE HERE\n",
    "\n",
    "# Drop any missing values from the profit DataFrame\n",
    "profit_per_trade_middle = # YOUR CODE HERE\n",
    "\n",
    "# View the early profit DataFrame\n",
    "# YOUR CODE HERE\n"
   ]
  },
  {
   "cell_type": "code",
   "execution_count": null,
   "metadata": {
    "id": "l5EQ7tv4BdHc"
   },
   "outputs": [],
   "source": [
    "# For the date late in the dataset, calculate the potential profit per trade in dollars \n",
    "# Multiply the profitable trades by the cost of the Bitcoin that was purchased\n",
    "profit_late = # YOUR CODE HERE\n",
    "\n",
    "# Drop any missing values from the profit DataFrame\n",
    "profit_per_trade_late = # YOUR CODE HERE\n",
    "\n",
    "# View the early profit DataFrame\n",
    "# YOUR CODE HERE\n"
   ]
  },
  {
   "cell_type": "markdown",
   "metadata": {
    "id": "LiUfsMa4BdHc"
   },
   "source": [
    "#### 6. Generate the summary statistics, and plot the results for each of the three DataFrames."
   ]
  },
  {
   "cell_type": "code",
   "execution_count": null,
   "metadata": {
    "id": "A2RigCvZBdHc",
    "outputId": "5bb20074-9e83-41a6-a354-03f4ab4e67f0"
   },
   "outputs": [
    {
     "data": {
      "text/plain": [
       "count    18.000000\n",
       "mean      7.910556\n",
       "std       0.611666\n",
       "min       7.160000\n",
       "25%       7.500000\n",
       "50%       7.695000\n",
       "75%       8.320000\n",
       "max       9.210000\n",
       "Name: Close, dtype: float64"
      ]
     },
     "execution_count": 76,
     "metadata": {
      "tags": []
     },
     "output_type": "execute_result"
    }
   ],
   "source": [
    "# Generate the summary statistics for the early profit per trade DataFrame\n",
    "# YOUR CODE HERE\n"
   ]
  },
  {
   "cell_type": "code",
   "execution_count": null,
   "metadata": {
    "id": "i2Y6VCqZBdHd",
    "outputId": "30f4ca6b-e110-4442-d54a-c3dbda741daa"
   },
   "outputs": [
    {
     "data": {
      "text/plain": [
       "<AxesSubplot:xlabel='Timestamp'>"
      ]
     },
     "execution_count": 79,
     "metadata": {
      "tags": []
     },
     "output_type": "execute_result"
    },
    {
     "data": {
      "image/png": "[encoded data removed]",
      "text/plain": [
       "<Figure size 432x288 with 1 Axes>"
      ]
     },
     "metadata": {
      "needs_background": "light",
      "tags": []
     },
     "output_type": "display_data"
    }
   ],
   "source": [
    "# Plot the results for the early profit per trade DataFrame\n",
    "# Be sure to include at least a title with your plot\n",
    "# YOUR CODE HERE\n"
   ]
  },
  {
   "cell_type": "code",
   "execution_count": null,
   "metadata": {
    "id": "Vuri3d2SBdHd"
   },
   "outputs": [],
   "source": [
    "# Generate the summary statistics for the middle profit per trade DataFrame\n",
    "# YOUR CODE HERE\n"
   ]
  },
  {
   "cell_type": "code",
   "execution_count": null,
   "metadata": {
    "id": "GdxJqalPBdHd"
   },
   "outputs": [],
   "source": [
    "# Plot the results for the middle profit per trade DataFrame\n",
    "# Be sure to include at least a title with your plot\n",
    "# YOUR CODE HERE\n"
   ]
  },
  {
   "cell_type": "code",
   "execution_count": null,
   "metadata": {
    "id": "RDzIahHrBdHd"
   },
   "outputs": [],
   "source": [
    "# Generate the summary statistics for the late profit per trade DataFrame\n",
    "# YOUR CODE HERE\n"
   ]
  },
  {
   "cell_type": "code",
   "execution_count": null,
   "metadata": {
    "id": "8pyZrYmaBdHd"
   },
   "outputs": [],
   "source": [
    "# Plot the results for the late profit per trade DataFrame\n",
    "# Be sure to include at least a title with your plot\n",
    "# YOUR CODE HERE\n"
   ]
  },
  {
   "cell_type": "markdown",
   "metadata": {
    "id": "Jz-o-wG2BdHe"
   },
   "source": [
    "#### 7. Calculate the potential arbitrage profits that you can make on each day. To do so, sum the elements in the profit_per_trade DataFrame."
   ]
  },
  {
   "cell_type": "code",
   "execution_count": null,
   "metadata": {
    "id": "mat1v0A_BdHe",
    "outputId": "6cd9fa90-ded1-4643-c30e-baaf79cdea4d"
   },
   "outputs": [
    {
     "data": {
      "text/plain": [
       "142.3899999999993"
      ]
     },
     "execution_count": 80,
     "metadata": {
      "tags": []
     },
     "output_type": "execute_result"
    }
   ],
   "source": [
    "# Calculate the sum of the potential profits for the early profit per trade DataFrame\n",
    "# YOUR CODE HERE\n"
   ]
  },
  {
   "cell_type": "code",
   "execution_count": null,
   "metadata": {
    "id": "z1dI93t7BdHe"
   },
   "outputs": [],
   "source": [
    "# Calculate the sum of the potential profits for the middle profit per trade DataFrame\n",
    "# YOUR CODE HERE\n"
   ]
  },
  {
   "cell_type": "code",
   "execution_count": null,
   "metadata": {
    "id": "wX9_ZvFFBdHe"
   },
   "outputs": [],
   "source": [
    "# Calculate the sum of the potential profits for the late profit per trade DataFrame\n",
    "# YOUR CODE HERE\n"
   ]
  },
  {
   "cell_type": "markdown",
   "metadata": {
    "id": "g_ueo7ZLBdHe"
   },
   "source": [
    "#### 8. Using the `cumsum` function, plot the cumulative sum of each of the three DataFrames. Can you identify any patterns or trends in the profits across the three time periods?"
   ]
  },
  {
   "cell_type": "code",
   "execution_count": null,
   "metadata": {
    "id": "jeC2ZuRmBdHf"
   },
   "outputs": [],
   "source": [
    "# Use the cumsum function to calculate the cumulative profits over time for the early profit per trade DataFrame\n",
    "cumulative_profit_early = # YOUR CODE HERE\n"
   ]
  },
  {
   "cell_type": "code",
   "execution_count": null,
   "metadata": {
    "id": "MNQgylcUBdHf",
    "outputId": "c7e4dc3b-6138-4d92-a803-c71b72740f0b"
   },
   "outputs": [
    {
     "data": {
      "text/plain": [
       "<AxesSubplot:xlabel='Timestamp'>"
      ]
     },
     "execution_count": 83,
     "metadata": {
      "tags": []
     },
     "output_type": "execute_result"
    },
    {
     "data": {
      "image/png": "[encoded data removed]",
      "text/plain": [
       "<Figure size 432x288 with 1 Axes>"
      ]
     },
     "metadata": {
      "needs_background": "light",
      "tags": []
     },
     "output_type": "display_data"
    }
   ],
   "source": [
    "# Plot the cumulative sum of profits for the early profit per trade DataFrame\n",
    "# Be sure to include at least a title with your plot\n",
    "# YOUR CODE HERE"
   ]
  },
  {
   "cell_type": "code",
   "execution_count": null,
   "metadata": {
    "id": "EK-P4wTbBdHg"
   },
   "outputs": [],
   "source": [
    "# Use the cumsum function to calculate the cumulative profits over time for the middle profit per trade DataFrame\n",
    "cumulative_profit_middle = # YOUR CODE HERE\n"
   ]
  },
  {
   "cell_type": "code",
   "execution_count": null,
   "metadata": {
    "id": "r_21p3cCBdHg"
   },
   "outputs": [],
   "source": [
    "# Plot the cumulative sum of profits for the early profit per trade DataFrame\n",
    "# Be sure to include at least a title with your plot\n",
    "# YOUR CODE HERE\n"
   ]
  },
  {
   "cell_type": "code",
   "execution_count": null,
   "metadata": {
    "id": "-kFCUrBuBdHg"
   },
   "outputs": [],
   "source": [
    "# Use the cumsum function to calculate the cumulative profits over time for the late profit per trade DataFrame\n",
    "cumulative_profit_late = # YOUR CODE HERE\n"
   ]
  },
  {
   "cell_type": "code",
   "execution_count": null,
   "metadata": {
    "id": "e7ePBCCOBdHg"
   },
   "outputs": [],
   "source": [
    "# Plot the cumulative sum of profits for the early profit per trade DataFrame\n",
    "# Be sure to include at least a title with your plot\n",
    "# YOUR CODE HERE\n"
   ]
  },
  {
   "cell_type": "markdown",
   "metadata": {
    "id": "DfY-UjnGBdHg"
   },
   "source": [
    "**Question:** After reviewing the profit information across each date from the different time periods, can you identify any patterns or trends?\n",
    "    \n",
    "**Answer:** Arbitrage profits are extremely hard to come by at the market for Bitcoin matures across time. As Bitcoin grows in populatiry, the prices across the two exhanges trade more in line with one another. That makes is very difficult find a point where the price difference exceeds the minimum profit threshold of 1%."
   ]
  },
  {
   "cell_type": "code",
   "execution_count": null,
   "metadata": {
    "id": "ceBZ4SdQBdHh"
   },
   "outputs": [],
   "source": []
  }
 ],
 "metadata": {
  "colab": {
   "collapsed_sections": [
    "Sa4zyRTHBdHZ",
    "vElSDLTFBdHZ",
    "YY61PPlsBdHa",
    "4YsddsMRBdHb",
    "wT-UJ8ioBdHc",
    "LiUfsMa4BdHc",
    "Jz-o-wG2BdHe",
    "g_ueo7ZLBdHe"
   ],
   "name": "crypto_arbitrage.ipynb",
   "provenance": []
  },
  "kernelspec": {
   "display_name": "Python 3",
   "language": "python",
   "name": "python3"
  },
  "language_info": {
   "codemirror_mode": {
    "name": "ipython",
    "version": 3
   },
   "file_extension": ".py",
   "mimetype": "text/x-python",
   "name": "python",
   "nbconvert_exporter": "python",
   "pygments_lexer": "ipython3",
   "version": "3.8.5"
  }
 },
 "nbformat": 4,
 "nbformat_minor": 4
}
